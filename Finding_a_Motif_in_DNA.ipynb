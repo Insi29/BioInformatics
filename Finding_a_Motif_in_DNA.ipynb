{
  "nbformat": 4,
  "nbformat_minor": 0,
  "metadata": {
    "colab": {
      "name": "Finding a Motif in DNA.ipynb",
      "provenance": [],
      "collapsed_sections": []
    },
    "kernelspec": {
      "name": "python3",
      "display_name": "Python 3"
    },
    "language_info": {
      "name": "python"
    }
  },
  "cells": [
    {
      "cell_type": "code",
      "source": [
        "s='TAGGAAGATACCGATACAGATACCTTACCAAGATACCTAGATACCTGATAGATACCAAGATACCAGAGATACCGAGATACCAAGATACCAGATACCTACCAGAGATACCAGATACCTGAGATACCTGGTGAAGATACCAGTTTTTAGATACCAGATACCAATTCAGATACCAGATACCTGATTATATAAGATACCGAGCATAGATACCAGATACCTCAGATACCTTATAGATACCAGATACCAAACATCAAGATACCCACAGATACCAAAGATACCGTAGATACCACGAGATACCATTGCTTAGATACCGGAAGATACCAAGATACCTTTATGCACGAGATACCAGATACCGAGATACCACTAAGATACCGGTAGATACCTCAGATACCATAGATACCAACGAGATACCAGATACCTCAATGTAGATACCAGATACCAGATACCAGATACCACGAGATACCTGAGATACCCTGAGATACCGAAAAGATACCAGATACCGTCACGAAGATACCATCTTTTCTTAGATACCGATCAGATACCCCAGATACCAGATACCTAGAGAGATACCAGATACCATGGCTCGCAGATCCCAGATACCAAGATACCAGATACCCAGATACCAAGATACCAGTATCAAGATACCAGGGAGATACCGATTAGATACCGAGTGAAGCTGAGATACCTAAGATACCAGATACCAGATACCAGATACCGAGATACCTCAGATACCGGTATGCGCATAGAGATACCCAGATACCAAGATACCAAGATACCAAGATACCCGGTGAGATACCTGGGTAAAGATACCTTAGATACCAGATACCGTAGATACCATTCGTGAGATACCCTTGTAGATACCAAGAGATACCGAGATACCAGATACCCGGAGATACCAGATACCGGGCGAGATACC'\n",
        "ss='AGATACCAG'\n",
        "\n",
        "\n",
        "for position in range(len(s)):\n",
        "    if s[position:].startswith(ss):\n",
        "        print(position+1)"
      ],
      "metadata": {
        "colab": {
          "base_uri": "https://localhost:8080/"
        },
        "id": "bP3koGJcrnCU",
        "outputId": "2131c0e9-9697-4a68-d81e-d8924ad0ef6e"
      },
      "execution_count": 2,
      "outputs": [
        {
          "output_type": "stream",
          "name": "stdout",
          "text": [
            "58\n",
            "83\n",
            "103\n",
            "132\n",
            "146\n",
            "165\n",
            "202\n",
            "229\n",
            "338\n",
            "403\n",
            "424\n",
            "431\n",
            "438\n",
            "485\n",
            "543\n",
            "562\n",
            "600\n",
            "623\n",
            "637\n",
            "686\n",
            "693\n",
            "700\n",
            "811\n",
            "871\n",
            "888\n"
          ]
        }
      ]
    }
  ]
}